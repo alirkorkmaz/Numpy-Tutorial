{
  "nbformat": 4,
  "nbformat_minor": 0,
  "metadata": {
    "colab": {
      "name": "Numpy Çalışma Dosyası",
      "provenance": [],
      "collapsed_sections": [
        "U0ZUT406LBaL"
      ],
      "authorship_tag": "ABX9TyMZpKTLOqRvnuZGfVLQuCn0",
      "include_colab_link": true
    },
    "kernelspec": {
      "name": "python3",
      "display_name": "Python 3"
    },
    "language_info": {
      "name": "python"
    }
  },
  "cells": [
    {
      "cell_type": "markdown",
      "metadata": {
        "id": "view-in-github",
        "colab_type": "text"
      },
      "source": [
        "<a href=\"https://colab.research.google.com/github/alirkorkmaz/Numpy-Tutorial/blob/main/Numpy_%C3%87al%C4%B1%C5%9Fma_Dosyas%C4%B1.ipynb\" target=\"_parent\"><img src=\"https://colab.research.google.com/assets/colab-badge.svg\" alt=\"Open In Colab\"/></a>"
      ]
    },
    {
      "cell_type": "markdown",
      "source": [
        "# Numpy Çalışma Defteri\n"
      ],
      "metadata": {
        "id": "rEt2arXX3P91"
      }
    },
    {
      "cell_type": "code",
      "execution_count": null,
      "metadata": {
        "id": "QJewMnjW3O0r"
      },
      "outputs": [],
      "source": [
        "import numpy as np  #numpy kütüphanesinin import edilmesi"
      ]
    },
    {
      "cell_type": "code",
      "source": [
        "print(np.__version__)   # kütüphanenin  versiyon kontrolü"
      ],
      "metadata": {
        "colab": {
          "base_uri": "https://localhost:8080/"
        },
        "id": "BnCeAnen3hKh",
        "outputId": "b2588af0-ab53-43c2-ca59-a7766f6b4c21"
      },
      "execution_count": null,
      "outputs": [
        {
          "output_type": "stream",
          "name": "stdout",
          "text": [
            "1.21.6\n"
          ]
        }
      ]
    },
    {
      "cell_type": "code",
      "source": [
        "arr = np.array([1,2,3,4,5])    # numpy ile oluşturulan array veri tipi\n",
        "print(arr)\n",
        "print(type(arr))"
      ],
      "metadata": {
        "colab": {
          "base_uri": "https://localhost:8080/"
        },
        "id": "b24LHk7w3hIb",
        "outputId": "189e7894-5d49-4af9-daec-e57fdf7bb412"
      },
      "execution_count": null,
      "outputs": [
        {
          "output_type": "stream",
          "name": "stdout",
          "text": [
            "[1 2 3 4 5]\n",
            "<class 'numpy.ndarray'>\n"
          ]
        }
      ]
    },
    {
      "cell_type": "code",
      "source": [
        "sayilar = (1,2,3,4,5)       # tuple veri türünün array veri türüne dönüşmesi\n",
        "array = np.array(sayilar)\n",
        "print(array)\n",
        "print(type(array))\n",
        "print(type(sayilar))"
      ],
      "metadata": {
        "colab": {
          "base_uri": "https://localhost:8080/"
        },
        "id": "PjO6oNGS3hF_",
        "outputId": "2c0eef63-d7f2-4e04-aa6f-b9e47e29372e"
      },
      "execution_count": null,
      "outputs": [
        {
          "output_type": "stream",
          "name": "stdout",
          "text": [
            "[1 2 3 4 5]\n",
            "<class 'numpy.ndarray'>\n",
            "<class 'tuple'>\n"
          ]
        }
      ]
    },
    {
      "cell_type": "code",
      "source": [
        "a = np.array(52)    # her bir arrayın eksen sayısı gösterimi\n",
        "b = np.array([1,2,3,4,5])\n",
        "c = np.array([[1,2,3],[4,5,6]])\n",
        "d = np.array([[[1,2,3], [4,5,6]], [[7,8,9], [10,11,12]]])\n",
        "\n",
        "print(a.ndim)\n",
        "print(b.ndim)\n",
        "print(c.ndim)\n",
        "print(d.ndim)"
      ],
      "metadata": {
        "colab": {
          "base_uri": "https://localhost:8080/"
        },
        "id": "y3PNnjkF3hDs",
        "outputId": "97ed0d8e-066e-4f00-b3c8-f8c4752ffb87"
      },
      "execution_count": null,
      "outputs": [
        {
          "output_type": "stream",
          "name": "stdout",
          "text": [
            "0\n",
            "1\n",
            "2\n",
            "3\n"
          ]
        }
      ]
    },
    {
      "cell_type": "code",
      "source": [
        "'''arr1 = np.array([1,2,3,4,5], ndim = 5)\n",
        "print(arr1)\n",
        "print(\" \",arr1.ndim)'''"
      ],
      "metadata": {
        "id": "jvVG_sZk3hBY",
        "colab": {
          "base_uri": "https://localhost:8080/",
          "height": 36
        },
        "outputId": "edb189df-9fe7-459b-a8e6-fdac1c959e8e"
      },
      "execution_count": null,
      "outputs": [
        {
          "output_type": "execute_result",
          "data": {
            "text/plain": [
              "'arr1 = np.array([1,2,3,4,5], ndim = 5)\\nprint(arr1)\\nprint(\" \",arr1.ndim)'"
            ],
            "application/vnd.google.colaboratory.intrinsic+json": {
              "type": "string"
            }
          },
          "metadata": {},
          "execution_count": 16
        }
      ]
    },
    {
      "cell_type": "code",
      "source": [
        "arr2 = np.array([1,2,3,4,5])   # bir arrayda elemanlara ulaşma \n",
        "print(arr2[0])"
      ],
      "metadata": {
        "colab": {
          "base_uri": "https://localhost:8080/"
        },
        "id": "VukuNUcK3g_B",
        "outputId": "dddabe0a-f7b0-4ab0-a7ac-5f1f70cfba86"
      },
      "execution_count": null,
      "outputs": [
        {
          "output_type": "stream",
          "name": "stdout",
          "text": [
            "1\n"
          ]
        }
      ]
    },
    {
      "cell_type": "code",
      "source": [
        "arr3 = np.array([1,2,3,4])   # arrayda iki elemanın toplamı \n",
        "print(arr[2] + arr[3])"
      ],
      "metadata": {
        "colab": {
          "base_uri": "https://localhost:8080/"
        },
        "id": "6kCpCHzy3g82",
        "outputId": "b595dc68-0894-4e72-d788-b06d499e7016"
      },
      "execution_count": null,
      "outputs": [
        {
          "output_type": "stream",
          "name": "stdout",
          "text": [
            "7\n"
          ]
        }
      ]
    },
    {
      "cell_type": "code",
      "source": [
        "arr = np. array([[1,2,3,4,5],[1,2,3,4,5]])  # iki eksenli bir arrayda belirlenen elemana gitme \n",
        "print(arr[0,1])"
      ],
      "metadata": {
        "colab": {
          "base_uri": "https://localhost:8080/"
        },
        "id": "8tKbKYKh3g6J",
        "outputId": "d7e32cf3-3f87-4d82-ee21-23ecfb6f3e5b"
      },
      "execution_count": null,
      "outputs": [
        {
          "output_type": "stream",
          "name": "stdout",
          "text": [
            "2\n"
          ]
        }
      ]
    },
    {
      "cell_type": "code",
      "source": [
        "arr = np.array([[[1, 2, 3], [4, 5, 6]], [[7, 8, 9], [10, 11, 12]]])  # üç eksenli bir arrayda belirlenen elemana gitme\n",
        "print(arr[1,1,2])"
      ],
      "metadata": {
        "colab": {
          "base_uri": "https://localhost:8080/"
        },
        "id": "L4vtYi5l3g3p",
        "outputId": "633adafc-5675-4aef-cf93-265f05c6b147"
      },
      "execution_count": null,
      "outputs": [
        {
          "output_type": "stream",
          "name": "stdout",
          "text": [
            "12\n"
          ]
        }
      ]
    },
    {
      "cell_type": "code",
      "source": [
        "arr = np.array([[1,2,3,4,5], [6,7,8,9,10]])    # arrayda negatif indeksleme ile elemana gitme \n",
        "print(arr[1,-2])"
      ],
      "metadata": {
        "colab": {
          "base_uri": "https://localhost:8080/"
        },
        "id": "k0i1_O0x3g1C",
        "outputId": "b116a7cc-3835-42f5-dde7-0b4c9d7e45d6"
      },
      "execution_count": null,
      "outputs": [
        {
          "output_type": "stream",
          "name": "stdout",
          "text": [
            "9\n"
          ]
        }
      ]
    },
    {
      "cell_type": "code",
      "source": [
        "arr = np.array([1,2,3,4,5,6,7,8])   # bir arrayda iki indeks değeri arasındaki elemanları çağırma\n",
        "print(arr[1:5])"
      ],
      "metadata": {
        "colab": {
          "base_uri": "https://localhost:8080/"
        },
        "id": "WGmtrR5C3gyj",
        "outputId": "bf59caac-33f7-418e-f4c3-d6c4a46e2415"
      },
      "execution_count": null,
      "outputs": [
        {
          "output_type": "stream",
          "name": "stdout",
          "text": [
            "[2 3 4 5]\n"
          ]
        }
      ]
    },
    {
      "cell_type": "code",
      "source": [
        "arr = np.array([1,2,3,45,6,6])   # bir arrayda iki indeks değeri arasındaki elemanları çağırma\n",
        "print(arr[4:])"
      ],
      "metadata": {
        "colab": {
          "base_uri": "https://localhost:8080/"
        },
        "id": "5H48txDX3gwH",
        "outputId": "a9b3e5e1-21f2-4d26-e72f-f7f170ebaf78"
      },
      "execution_count": null,
      "outputs": [
        {
          "output_type": "stream",
          "name": "stdout",
          "text": [
            "[6 6]\n"
          ]
        }
      ]
    },
    {
      "cell_type": "code",
      "source": [
        "arr = np.array([1,2,3,4,5,6]) # bir arrayda iki indeks değeri arasındaki elemanları çağırma\n",
        "print(arr[:4])"
      ],
      "metadata": {
        "colab": {
          "base_uri": "https://localhost:8080/"
        },
        "id": "1mROYmeV3gtn",
        "outputId": "66faf8ab-8343-4ce6-e0a4-b6d4c688f4fa"
      },
      "execution_count": null,
      "outputs": [
        {
          "output_type": "stream",
          "name": "stdout",
          "text": [
            "[1 2 3 4]\n"
          ]
        }
      ]
    },
    {
      "cell_type": "code",
      "source": [
        "arr = np.array([12,3,4,434,5,4])  # bir arrayda iki indeks değeri arasındaki elemanları çağırma\n",
        "print(arr[-3:-1])"
      ],
      "metadata": {
        "colab": {
          "base_uri": "https://localhost:8080/"
        },
        "id": "g__cZS3-3grP",
        "outputId": "60ade973-c6fc-4f18-ee4a-fa26c5796056"
      },
      "execution_count": null,
      "outputs": [
        {
          "output_type": "stream",
          "name": "stdout",
          "text": [
            "[434   5]\n"
          ]
        }
      ]
    },
    {
      "cell_type": "code",
      "source": [
        "arr = np.array([1,2,3,4,5,6,7])  # bir arrayda iki indeks değeri arasındaki elemanları çağırma\n",
        "print(arr[1:5:2])"
      ],
      "metadata": {
        "colab": {
          "base_uri": "https://localhost:8080/"
        },
        "id": "LWARWPQe3go0",
        "outputId": "c1701998-e7fc-4ae3-e210-64ebd06895f0"
      },
      "execution_count": null,
      "outputs": [
        {
          "output_type": "stream",
          "name": "stdout",
          "text": [
            "[2 4]\n"
          ]
        }
      ]
    },
    {
      "cell_type": "code",
      "source": [
        "arr = np.array([1, 2, 3, 4, 5, 6, 7])   # bir arrayda iki indeks değeri arasındaki elemanları çağırma\n",
        "print(arr[::2])"
      ],
      "metadata": {
        "colab": {
          "base_uri": "https://localhost:8080/"
        },
        "id": "3FY-rfLr3gmP",
        "outputId": "023389ec-93a8-4408-96dc-851d819d1f8c"
      },
      "execution_count": null,
      "outputs": [
        {
          "output_type": "stream",
          "name": "stdout",
          "text": [
            "[1 3 5 7]\n"
          ]
        }
      ]
    },
    {
      "cell_type": "code",
      "source": [
        "arr = np.array([[1, 2, 3, 4, 5], [6, 7, 8, 9, 10]])  # bir arrayda iki indeks değeri arasındaki elemanları çağırma\n",
        "print(arr[1, 1:4])"
      ],
      "metadata": {
        "colab": {
          "base_uri": "https://localhost:8080/"
        },
        "id": "LUG8ls-23gkD",
        "outputId": "a566f833-e193-4152-be3a-82e5829704e2"
      },
      "execution_count": null,
      "outputs": [
        {
          "output_type": "stream",
          "name": "stdout",
          "text": [
            "[7 8 9]\n"
          ]
        }
      ]
    },
    {
      "cell_type": "code",
      "source": [
        "arr = np.array([[1, 2, 3, 4, 5], [6, 7, 8, 9, 10]])   # bir arrayda iki indeks değeri arasındaki elemanları çağırma\n",
        "print(arr[0:2, 2]) "
      ],
      "metadata": {
        "colab": {
          "base_uri": "https://localhost:8080/"
        },
        "id": "Lqxu3Uie3gh1",
        "outputId": "683b4747-1eb0-4e77-bfa5-fd9eaf97069b"
      },
      "execution_count": null,
      "outputs": [
        {
          "output_type": "stream",
          "name": "stdout",
          "text": [
            "[3 8]\n"
          ]
        }
      ]
    },
    {
      "cell_type": "code",
      "source": [
        "arr = np.array([[1, 2, 3, 4, 5], [6, 7, 8, 9, 10]])     # bir arrayda iki indeks değeri arasındaki elemanları çağırma\n",
        "\n",
        "print(arr[0:2, 1:4])"
      ],
      "metadata": {
        "colab": {
          "base_uri": "https://localhost:8080/"
        },
        "id": "wOLvQlDk3gfv",
        "outputId": "86a4a959-6f31-475e-9b5b-58013b7c8139"
      },
      "execution_count": null,
      "outputs": [
        {
          "output_type": "stream",
          "name": "stdout",
          "text": [
            "[[2 3 4]\n",
            " [7 8 9]]\n"
          ]
        }
      ]
    },
    {
      "cell_type": "markdown",
      "source": [
        "## Pythonda Veri Türleri"
      ],
      "metadata": {
        "id": "U0ZUT406LBaL"
      }
    },
    {
      "cell_type": "markdown",
      "source": [
        "* string:\"ABCD\"\n",
        "* integer: -1, -2, 3\n",
        "* float: 1.2, 42.42\n",
        "* boolen:True, False\n",
        "* complex:1.0 + 2.0j, 1.5 + 2.5j"
      ],
      "metadata": {
        "id": "1rylbvdiLHJB"
      }
    },
    {
      "cell_type": "markdown",
      "source": [
        "## Numpy Veri Türleri"
      ],
      "metadata": {
        "id": "kmrN1Mx4MB_m"
      }
    },
    {
      "cell_type": "markdown",
      "source": [
        "* i- tam sayı\n",
        "* b- boole\n",
        "* u- İşaretsiz tam sayı\n",
        "* f- float\n",
        "* c- complex float\n",
        "* m- timedelta\n",
        "* M- datetime\n",
        "* O- obje\n",
        "* S- string\n",
        "* U- tek kodlu string\n",
        "* V- diğer tür için sabit bellek yığını ( void )"
      ],
      "metadata": {
        "id": "g-6KWpDSMMs-"
      }
    },
    {
      "cell_type": "code",
      "source": [
        "arr = np.array([12,2,3,4])   # arrayın veri tipini bulma \n",
        "print(arr.dtype)"
      ],
      "metadata": {
        "colab": {
          "base_uri": "https://localhost:8080/"
        },
        "id": "lKQ851ck3gdk",
        "outputId": "5aebcc8b-fd84-494e-9c70-215b00e2ee61"
      },
      "execution_count": null,
      "outputs": [
        {
          "output_type": "stream",
          "name": "stdout",
          "text": [
            "int64\n"
          ]
        }
      ]
    },
    {
      "cell_type": "code",
      "source": [
        "arr = np.array([1,2,3,4,5], dtype = \"S\")   # arrayın veri tipini değiştirme(bazı değerler arasında gerçeleşir)\n",
        "print(arr)\n",
        "print(arr.dtype)"
      ],
      "metadata": {
        "colab": {
          "base_uri": "https://localhost:8080/"
        },
        "id": "l_nUwC6T3gbX",
        "outputId": "15b24426-c3b7-45fd-c4cc-cd3bbbe48a86"
      },
      "execution_count": null,
      "outputs": [
        {
          "output_type": "stream",
          "name": "stdout",
          "text": [
            "[b'1' b'2' b'3' b'4' b'5']\n",
            "|S1\n"
          ]
        }
      ]
    },
    {
      "cell_type": "markdown",
      "source": [
        "## Mevcut Dizilerde Veri Türünü Dönüştürme"
      ],
      "metadata": {
        "id": "7YA9rd08NhBe"
      }
    },
    {
      "cell_type": "markdown",
      "source": [
        "* Mevcut bir dizinin veri tipini değiştirmenin en iyi yolu, astype() metotu ile dizinin bir kopysını oluşturmaktır.\n",
        "* İşlev astype(), dizinin bir kopyasını oluşturur ve veri türünü parametre olarak belirtmenize olanak tanır."
      ],
      "metadata": {
        "id": "SQDkkYJJNo4M"
      }
    },
    {
      "cell_type": "code",
      "source": [
        "arr = np.array([1.1, 2.1, 3.1]) # float değerlerin int32 değere dönüşümü\n",
        "\n",
        "newarr = arr.astype('i')\n",
        "\n",
        "print(newarr)\n",
        "print(newarr.dtype)"
      ],
      "metadata": {
        "colab": {
          "base_uri": "https://localhost:8080/"
        },
        "id": "aqUEAkYvNojy",
        "outputId": "f8eec08c-462c-4458-e4b3-bf343f54359d"
      },
      "execution_count": null,
      "outputs": [
        {
          "output_type": "stream",
          "name": "stdout",
          "text": [
            "[1 2 3]\n",
            "int32\n"
          ]
        }
      ]
    },
    {
      "cell_type": "code",
      "source": [
        "arr = np.array([1.1, 2.1, 3.1])    # float değerlerin int64 değere dönüşümü\n",
        "\n",
        "newarr = arr.astype(int)\n",
        "\n",
        "print(newarr)\n",
        "print(newarr.dtype)"
      ],
      "metadata": {
        "colab": {
          "base_uri": "https://localhost:8080/"
        },
        "id": "YT8IIS383gY7",
        "outputId": "012961e8-06ea-4bba-bdba-b01aa16d3ed1"
      },
      "execution_count": null,
      "outputs": [
        {
          "output_type": "stream",
          "name": "stdout",
          "text": [
            "[1 2 3]\n",
            "int64\n"
          ]
        }
      ]
    },
    {
      "cell_type": "code",
      "source": [
        "import numpy as np\n",
        "arr = np.array([1, 0, 3, 4, -1])    # int değerin bool değere dönüşümü, \n",
        "                                #  sıfır dışındaki tüm değerler True olarak alınıyor\n",
        "newarr = arr.astype(bool)\n",
        "\n",
        "print(newarr)\n",
        "print(newarr.dtype)"
      ],
      "metadata": {
        "colab": {
          "base_uri": "https://localhost:8080/"
        },
        "id": "ZvPEPMx7O1Zg",
        "outputId": "5fe345e5-68f8-4a44-9e92-c879f43244c0"
      },
      "execution_count": null,
      "outputs": [
        {
          "output_type": "stream",
          "name": "stdout",
          "text": [
            "[ True False  True  True  True]\n",
            "bool\n"
          ]
        }
      ]
    },
    {
      "cell_type": "markdown",
      "source": [
        "## NumPy Array Copy ve View "
      ],
      "metadata": {
        "id": "ekUGWcZKO8dV"
      }
    },
    {
      "cell_type": "markdown",
      "source": [
        "#### Kopyalama ve Görünüm Arasındaki Fark\n"
      ],
      "metadata": {
        "id": "cSTOtv-6QVP8"
      }
    },
    {
      "cell_type": "markdown",
      "source": [
        "* Bir kopya ile bir dizin arasındaki görünüm farkı, kopyanın yeni bir dizin olması ve görünümün yalnızca orjinal bir dizinin görünümü olmasıdır.\n",
        "* Kopya verilerin sahibidir ve kopyada yapılan bir değişiklik orjinal diziyi etkilemez. Orjinal veride yapılan değişiklik kopyayı etkilemez.\n",
        "* View, verilere sahip değildir ve viewde yapılan değişik orjinal diziyi etkiler ve orjinal dizide yapıla herhangi bir değişiklik görünümü etkiler.\n",
        "* Kopyalar verilere sahiptir, viewler verilere sahip değildir.\n",
        "* Her numpy dizisi, verilerin sahibiyse base, dönen özniteliğe None sahiptir.\n",
        "* Aksi takdirde, base  öznitelik orijinal nesneye başvurur.\n",
        "\n",
        "\n",
        "\n"
      ],
      "metadata": {
        "id": "fp-MXoV4P0fu"
      }
    },
    {
      "cell_type": "code",
      "source": [
        "arr = np.array([1,2,3,4,5])  # bir arrayın kopyalanması, .copy() fonksiyonu ile kopyada değişiklikler oldu\n",
        "x = arr.copy()               # orjinal veride bir değişiklik olmadı \n",
        "arr[0] = 10\n",
        "\n",
        "print(arr)\n",
        "print(x)"
      ],
      "metadata": {
        "colab": {
          "base_uri": "https://localhost:8080/"
        },
        "id": "6zZMPVw9P0Rq",
        "outputId": "5bfae645-d607-480e-8d07-4f0b868f9bdb"
      },
      "execution_count": null,
      "outputs": [
        {
          "output_type": "stream",
          "name": "stdout",
          "text": [
            "[10  2  3  4  5]\n",
            "[1 2 3 4 5]\n"
          ]
        }
      ]
    },
    {
      "cell_type": "code",
      "source": [
        "arr = np.array([1,2,3,4,5])    # view() fonkisyonu kullanarak kopyalama, \n",
        "x = arr.view()                 # gerçek veride yapılan deişiklik viewi etkiler\n",
        "arr[0] = 42\n",
        "\n",
        "print(arr)\n",
        "print(x)"
      ],
      "metadata": {
        "colab": {
          "base_uri": "https://localhost:8080/"
        },
        "id": "zUD8UxplO1Xc",
        "outputId": "9ea6065d-0bc3-4b98-af38-8e00cf7eda0f"
      },
      "execution_count": null,
      "outputs": [
        {
          "output_type": "stream",
          "name": "stdout",
          "text": [
            "[42  2  3  4  5]\n",
            "[42  2  3  4  5]\n"
          ]
        }
      ]
    },
    {
      "cell_type": "code",
      "source": [
        "arr = np.array([1, 2, 3, 4, 5])  # viewde  yapılan deişiklik gerçek veriyi etkiler\n",
        "x = arr.view()\n",
        "x[0] = 31\n",
        "\n",
        "print(arr)\n",
        "print(x)"
      ],
      "metadata": {
        "colab": {
          "base_uri": "https://localhost:8080/"
        },
        "id": "TdgSDhn8O1VB",
        "outputId": "bc47a45f-10d6-406b-ef75-b6a900d7628f"
      },
      "execution_count": null,
      "outputs": [
        {
          "output_type": "stream",
          "name": "stdout",
          "text": [
            "[31  2  3  4  5]\n",
            "[31  2  3  4  5]\n"
          ]
        }
      ]
    },
    {
      "cell_type": "code",
      "source": [
        "arr = np.array([1,2,3,4,5])\n",
        "\n",
        "x = arr.copy()  #base kullanımını araştır\n",
        "y = arr.view()\n",
        "\n",
        "print(x.base)\n",
        "print(y.base)"
      ],
      "metadata": {
        "colab": {
          "base_uri": "https://localhost:8080/"
        },
        "id": "q8MMFNp6O1SX",
        "outputId": "79c50c38-325c-4cf4-8ef4-fcb95b9f0203"
      },
      "execution_count": null,
      "outputs": [
        {
          "output_type": "stream",
          "name": "stdout",
          "text": [
            "None\n",
            "[1 2 3 4 5]\n"
          ]
        }
      ]
    },
    {
      "cell_type": "markdown",
      "source": [
        "## NumPy Dizi Şekli\n"
      ],
      "metadata": {
        "id": "lK-z7GYMYH0C"
      }
    },
    {
      "cell_type": "markdown",
      "source": [
        "* Bir dizinin şekli, her boyuttaki eleman sayısıdır.\n",
        "\n"
      ],
      "metadata": {
        "id": "2GKOPk3IYMOZ"
      }
    },
    {
      "cell_type": "code",
      "source": [
        "arr = np.array([[1,2,3,4], [5,6,7,8]])  # bir arrayın kaç boyutlu olduğunu öğreniriz\n",
        "print(arr.shape)"
      ],
      "metadata": {
        "colab": {
          "base_uri": "https://localhost:8080/"
        },
        "id": "xv5gaEhXO1P1",
        "outputId": "fb53a561-4d1d-4bec-ccf4-180243589308"
      },
      "execution_count": null,
      "outputs": [
        {
          "output_type": "stream",
          "name": "stdout",
          "text": [
            "(2, 4)\n"
          ]
        }
      ]
    },
    {
      "cell_type": "code",
      "source": [
        "arr = np.array([1,2,3,4,5], ndmin = 5)  # bir arrayda boyut sayısı arttırma \n",
        "print(arr.shape)"
      ],
      "metadata": {
        "colab": {
          "base_uri": "https://localhost:8080/"
        },
        "id": "-tI2J3KBO1Ni",
        "outputId": "9c94317c-2221-4374-a5e0-793c75df988a"
      },
      "execution_count": null,
      "outputs": [
        {
          "output_type": "stream",
          "name": "stdout",
          "text": [
            "(1, 1, 1, 1, 5)\n"
          ]
        }
      ]
    },
    {
      "cell_type": "markdown",
      "source": [
        "## Dizileri Yeniden Şekillendirme"
      ],
      "metadata": {
        "id": "JAFpl6F8b4po"
      }
    },
    {
      "cell_type": "markdown",
      "source": [
        "* Dizi eleman sayısı değiştirilen değer ile örtüşmelidir. Aksi halde valueError yanıtını alır."
      ],
      "metadata": {
        "id": "8QxLV0nMciuU"
      }
    },
    {
      "cell_type": "code",
      "source": [
        "arr = np.array([1,2,3,4,5,6,7,8,9,10,11,12])  # 4 satır 3 sütunluk bir array oluşturuldu\n",
        "newarr = arr.reshape(4,3)\n",
        "\n",
        "print(newarr)"
      ],
      "metadata": {
        "colab": {
          "base_uri": "https://localhost:8080/"
        },
        "id": "FU0SVdKFO1K_",
        "outputId": "3691af82-92d3-497d-a393-23c758e9aab9"
      },
      "execution_count": null,
      "outputs": [
        {
          "output_type": "stream",
          "name": "stdout",
          "text": [
            "[[ 1  2  3]\n",
            " [ 4  5  6]\n",
            " [ 7  8  9]\n",
            " [10 11 12]]\n"
          ]
        }
      ]
    },
    {
      "cell_type": "code",
      "source": [
        "arr = np.array([1, 2, 3, 4, 5, 6, 7, 8, 9, 10, 11, 12])  # eksen sayısı eklenerek 3 satır 2 sütunluk array oluşturuldu \n",
        "\n",
        "newarr = arr.reshape(2, 3, 2)\n",
        "\n",
        "print(newarr)"
      ],
      "metadata": {
        "colab": {
          "base_uri": "https://localhost:8080/"
        },
        "id": "ncJ1CZ0PO1Ia",
        "outputId": "55f3ee6d-58cc-4780-e781-de7bb377b8bd"
      },
      "execution_count": null,
      "outputs": [
        {
          "output_type": "stream",
          "name": "stdout",
          "text": [
            "[[[ 1  2]\n",
            "  [ 3  4]\n",
            "  [ 5  6]]\n",
            "\n",
            " [[ 7  8]\n",
            "  [ 9 10]\n",
            "  [11 12]]]\n"
          ]
        }
      ]
    },
    {
      "cell_type": "code",
      "source": [
        "arr = np.array([1, 2, 3, 4, 5, 6, 7, 8])\n",
        "\n",
        "newarr = arr.reshape(2,2,2)\n",
        "\n",
        "print(newarr)"
      ],
      "metadata": {
        "colab": {
          "base_uri": "https://localhost:8080/"
        },
        "id": "5rqwtZBpO1GO",
        "outputId": "9ed95964-b58f-4c8c-edb6-d6473cda9ef2"
      },
      "execution_count": null,
      "outputs": [
        {
          "output_type": "stream",
          "name": "stdout",
          "text": [
            "[[[1 2]\n",
            "  [3 4]]\n",
            "\n",
            " [[5 6]\n",
            "  [7 8]]]\n"
          ]
        }
      ]
    },
    {
      "cell_type": "code",
      "source": [
        "arr = np.array([1, 2, 3, 4, 5, 6, 7, 8])\n",
        "\n",
        "newarr = arr.reshape(2, 2, -1)\n",
        "\n",
        "print(newarr)"
      ],
      "metadata": {
        "colab": {
          "base_uri": "https://localhost:8080/"
        },
        "id": "6uCUdaeaO1Da",
        "outputId": "71a664b9-2b6e-4731-dc95-64ce5d8e63fb"
      },
      "execution_count": null,
      "outputs": [
        {
          "output_type": "stream",
          "name": "stdout",
          "text": [
            "[[[1 2]\n",
            "  [3 4]]\n",
            "\n",
            " [[5 6]\n",
            "  [7 8]]]\n"
          ]
        }
      ]
    },
    {
      "cell_type": "markdown",
      "source": [
        "## Diziyi Yineleme"
      ],
      "metadata": {
        "id": "RmeJRZNtloqj"
      }
    },
    {
      "cell_type": "markdown",
      "source": [
        "* Yineleme, öğelerden tek tek geçmek anlamına gelir.\n",
        "* Çok boyutlu dizilerle uğraştığımız için for döngüsü ile yineleme işlemi yapabiliriz."
      ],
      "metadata": {
        "id": "rpi8uwq7luFH"
      }
    },
    {
      "cell_type": "code",
      "source": [
        "arr = np.array([1,2,3]) # for ile arraylari açma\n",
        "for x in arr:\n",
        "  print(x)"
      ],
      "metadata": {
        "colab": {
          "base_uri": "https://localhost:8080/"
        },
        "id": "qXSwnfGfO1A2",
        "outputId": "93d287c3-489f-40b5-e030-eab8fd081e79"
      },
      "execution_count": null,
      "outputs": [
        {
          "output_type": "stream",
          "name": "stdout",
          "text": [
            "1\n",
            "2\n",
            "3\n"
          ]
        }
      ]
    },
    {
      "cell_type": "code",
      "source": [
        "arr = np.array([[1,2,3],[4,5,6]])  # for ile arraylari açma\n",
        "for x in arr:\n",
        "  print(x)"
      ],
      "metadata": {
        "colab": {
          "base_uri": "https://localhost:8080/"
        },
        "id": "mqBU4MCpO0-g",
        "outputId": "8270e5dd-f386-480f-ce7f-862f8077676a"
      },
      "execution_count": null,
      "outputs": [
        {
          "output_type": "stream",
          "name": "stdout",
          "text": [
            "[1 2 3]\n",
            "[4 5 6]\n"
          ]
        }
      ]
    },
    {
      "cell_type": "code",
      "source": [
        "arr = np.array([[1,2,3],[4,5,6]]) # for ile arraylari açma, iki eksenli olduğu için for içinde for kullanıldı\n",
        "for x in arr:\n",
        "  for y in x:\n",
        "    print(y)"
      ],
      "metadata": {
        "colab": {
          "base_uri": "https://localhost:8080/"
        },
        "id": "0A0Cdr-dO08Q",
        "outputId": "aba703b0-fa8d-4be4-eab5-e2a090486d58"
      },
      "execution_count": null,
      "outputs": [
        {
          "output_type": "stream",
          "name": "stdout",
          "text": [
            "1\n",
            "2\n",
            "3\n",
            "4\n",
            "5\n",
            "6\n"
          ]
        }
      ]
    },
    {
      "cell_type": "code",
      "source": [
        "arr = np.array([[[1,2,3], [1,2,3]],[[1,2,3,],[1,2,3]]])  \n",
        "for x in arr:\n",
        "  print(x)"
      ],
      "metadata": {
        "colab": {
          "base_uri": "https://localhost:8080/"
        },
        "id": "KZ7fGpGhO057",
        "outputId": "37541c9e-f264-4722-c56a-619dbf7d1be8"
      },
      "execution_count": null,
      "outputs": [
        {
          "output_type": "stream",
          "name": "stdout",
          "text": [
            "[[1 2 3]\n",
            " [1 2 3]]\n",
            "[[1 2 3]\n",
            " [1 2 3]]\n"
          ]
        }
      ]
    },
    {
      "cell_type": "code",
      "source": [
        "arr = np.array([[[1,2,3], [1,2,3]],[[1,2,3,],[1,2,3]]])\n",
        "for x in arr:\n",
        "  for y in x:\n",
        "    for z in y:\n",
        "      print(z)"
      ],
      "metadata": {
        "colab": {
          "base_uri": "https://localhost:8080/"
        },
        "id": "ohiTFXIDoSHN",
        "outputId": "5d8a5100-873f-4a7e-c896-1ec2e83a23ac"
      },
      "execution_count": null,
      "outputs": [
        {
          "output_type": "stream",
          "name": "stdout",
          "text": [
            "1\n",
            "2\n",
            "3\n",
            "1\n",
            "2\n",
            "3\n",
            "1\n",
            "2\n",
            "3\n",
            "1\n",
            "2\n",
            "3\n"
          ]
        }
      ]
    },
    {
      "cell_type": "markdown",
      "source": [
        "### nditer() Kullanarak Dizileri Yineleme\n"
      ],
      "metadata": {
        "id": "2BzxNUb2yZWM"
      }
    },
    {
      "cell_type": "markdown",
      "source": [
        "* Birden fazla for döngüsü kullanmadan nditer() fonksiyonu ile aynı sonuca ulaşabiliriz."
      ],
      "metadata": {
        "id": "8uW33nPrzLUy"
      }
    },
    {
      "cell_type": "code",
      "source": [
        "arr = np.array([[[1, 2], [3, 4]], [[5, 6], [7, 8]]]) # iç içe for döngüleri kullanmak yerine tek fonksiyonda arrayları açma \n",
        "\n",
        "for x in np.nditer(arr):\n",
        "  print(x)"
      ],
      "metadata": {
        "colab": {
          "base_uri": "https://localhost:8080/"
        },
        "id": "8JAwKQUJybsk",
        "outputId": "42e4d89d-8f85-4f80-fdfe-1ced8b17daa8"
      },
      "execution_count": null,
      "outputs": [
        {
          "output_type": "stream",
          "name": "stdout",
          "text": [
            "1\n",
            "2\n",
            "3\n",
            "4\n",
            "5\n",
            "6\n",
            "7\n",
            "8\n"
          ]
        }
      ]
    },
    {
      "cell_type": "markdown",
      "source": [
        "## Farklı Veri Türleriyle Diziyi Yineleme"
      ],
      "metadata": {
        "id": "i_vfMPzkpB8u"
      }
    },
    {
      "cell_type": "code",
      "source": [
        "arr = np.array([1,2,3])\n",
        "for x in np.nditer(arr, flags=[\"buffered\"], op_dtypes=[\"S\"]):\n",
        "  print(x)"
      ],
      "metadata": {
        "colab": {
          "base_uri": "https://localhost:8080/"
        },
        "id": "b2FPhhALoSEt",
        "outputId": "b09a220d-c80b-48c3-d97f-472c9b163a49"
      },
      "execution_count": null,
      "outputs": [
        {
          "output_type": "stream",
          "name": "stdout",
          "text": [
            "b'1'\n",
            "b'2'\n",
            "b'3'\n"
          ]
        }
      ]
    },
    {
      "cell_type": "code",
      "source": [
        "arr = np.array([[1, 2, 3, 4], [5, 6, 7, 8]])\n",
        "\n",
        "for x in np.nditer(arr[:, ::2]):\n",
        "  print(x)"
      ],
      "metadata": {
        "colab": {
          "base_uri": "https://localhost:8080/"
        },
        "id": "xjOD5NQdoSCD",
        "outputId": "c0097e12-2749-40b3-9f25-c3c365ffe257"
      },
      "execution_count": null,
      "outputs": [
        {
          "output_type": "stream",
          "name": "stdout",
          "text": [
            "1\n",
            "3\n",
            "5\n",
            "7\n"
          ]
        }
      ]
    },
    {
      "cell_type": "markdown",
      "source": [
        "ndenumerate() kullanarak numaralandırılmış yineleme yapabiliriz"
      ],
      "metadata": {
        "id": "q3__ebZb1VZ_"
      }
    },
    {
      "cell_type": "code",
      "source": [
        "arr = np.array([1, 2, 3])  # array indekslerini numaralandırma \n",
        "\n",
        "for idx, x in np.ndenumerate(arr):\n",
        "  print(idx, x)"
      ],
      "metadata": {
        "colab": {
          "base_uri": "https://localhost:8080/"
        },
        "id": "s4Wx7T1AoR_s",
        "outputId": "e240be47-865d-4ad8-ba5b-3812a85fc426"
      },
      "execution_count": null,
      "outputs": [
        {
          "output_type": "stream",
          "name": "stdout",
          "text": [
            "(0,) 1\n",
            "(1,) 2\n",
            "(2,) 3\n"
          ]
        }
      ]
    },
    {
      "cell_type": "code",
      "source": [
        "arr = np.array([[1, 2, 3, 4], [5, 6, 7, 8]])  # array indekslerini numaralandırma\n",
        " \n",
        "for idx, x in np.ndenumerate(arr):\n",
        "  print(idx, x)\n"
      ],
      "metadata": {
        "colab": {
          "base_uri": "https://localhost:8080/"
        },
        "id": "kqDr0hEhoR9V",
        "outputId": "38d6a2c1-9ce5-4258-f7f4-b610e1bfc9c2"
      },
      "execution_count": null,
      "outputs": [
        {
          "output_type": "stream",
          "name": "stdout",
          "text": [
            "(0, 0) 1\n",
            "(0, 1) 2\n",
            "(0, 2) 3\n",
            "(0, 3) 4\n",
            "(1, 0) 5\n",
            "(1, 1) 6\n",
            "(1, 2) 7\n",
            "(1, 3) 8\n"
          ]
        }
      ]
    },
    {
      "cell_type": "markdown",
      "source": [
        "## NumPy Birleştirme Dizisi\n"
      ],
      "metadata": {
        "id": "NveZ-u4Z1ope"
      }
    },
    {
      "cell_type": "markdown",
      "source": [
        "* NumPy'de dizileri eksenlere göre birleştiririz.\n"
      ],
      "metadata": {
        "id": "N2kYcqHP1ttP"
      }
    },
    {
      "cell_type": "code",
      "source": [
        "arr1 = np.array([1, 2, 3])   # dizinleri eksenlere göre birleştiririz, default olarak soldan sağa birleştirildi\n",
        "\n",
        "arr2 = np.array([4, 5, 6])\n",
        "\n",
        "arr = np.concatenate((arr1, arr2))\n",
        "\n",
        "print(arr)"
      ],
      "metadata": {
        "colab": {
          "base_uri": "https://localhost:8080/"
        },
        "id": "LARBhB3foR7b",
        "outputId": "ee7a625d-6ab2-4e9e-a8bc-3ba89de46b1b"
      },
      "execution_count": null,
      "outputs": [
        {
          "output_type": "stream",
          "name": "stdout",
          "text": [
            "[1 2 3 4 5 6]\n"
          ]
        }
      ]
    },
    {
      "cell_type": "markdown",
      "source": [
        "* Eksen farkının görülebileceği iki farklı kod."
      ],
      "metadata": {
        "id": "CCr5F9OB2uwL"
      }
    },
    {
      "cell_type": "code",
      "source": [
        "arr1 = np.array([[1, 2], [3, 4]])  # axis değeri 1 girilerek soldan sağa birleştirildi\n",
        "\n",
        "arr2 = np.array([[5, 6], [7, 8]])\n",
        "\n",
        "arr = np.concatenate((arr1, arr2), axis=1)\n",
        "\n",
        "print(arr)"
      ],
      "metadata": {
        "colab": {
          "base_uri": "https://localhost:8080/"
        },
        "id": "yrPninVn2Jct",
        "outputId": "2b9c6e94-7524-488e-81db-47f73724ba36"
      },
      "execution_count": null,
      "outputs": [
        {
          "output_type": "stream",
          "name": "stdout",
          "text": [
            "[[1 2 5 6]\n",
            " [3 4 7 8]]\n"
          ]
        }
      ]
    },
    {
      "cell_type": "code",
      "source": [
        "arr1 = np.array([[1, 2], [3, 4]])  # axis değeri 0 girilerek yukardan aşağı birleştirildi\n",
        "\n",
        "arr2 = np.array([[5, 6], [7, 8]])\n",
        "\n",
        "arr = np.concatenate((arr1, arr2), axis=0)\n",
        "\n",
        "print(arr)"
      ],
      "metadata": {
        "colab": {
          "base_uri": "https://localhost:8080/"
        },
        "id": "Vhshfnw42Jah",
        "outputId": "4b2160ba-3f26-4a3b-8523-33ed1eb945d3"
      },
      "execution_count": null,
      "outputs": [
        {
          "output_type": "stream",
          "name": "stdout",
          "text": [
            "[[1 2]\n",
            " [3 4]\n",
            " [5 6]\n",
            " [7 8]]\n"
          ]
        }
      ]
    },
    {
      "cell_type": "code",
      "source": [
        "arr1 = np.array([1,2,3])   # stack() fonksiyonu ile birleştirilme sağlandı\n",
        "arr2 = np.array([4,5,6])\n",
        "\n",
        "arr = np.stack((arr1, arr2), axis=1)\n",
        "print(arr)"
      ],
      "metadata": {
        "colab": {
          "base_uri": "https://localhost:8080/"
        },
        "id": "sWOPAKOv2JYj",
        "outputId": "3aaa0667-f6dc-4632-a52a-2609ea92345e"
      },
      "execution_count": null,
      "outputs": [
        {
          "output_type": "stream",
          "name": "stdout",
          "text": [
            "[[1 4]\n",
            " [2 5]\n",
            " [3 6]]\n"
          ]
        }
      ]
    },
    {
      "cell_type": "code",
      "source": [
        "arr1 = np.array([1,2,3])   # stack() fonksiyonu ile birleştirilme sağlandı\n",
        "arr2 = np.array([4,5,6])\n",
        "\n",
        "arr = np.stack((arr1, arr2), axis=0)\n",
        "print(arr)"
      ],
      "metadata": {
        "colab": {
          "base_uri": "https://localhost:8080/"
        },
        "id": "gk5lucFg2JVh",
        "outputId": "3f47fd44-3091-4751-96a9-89e3718dde2b"
      },
      "execution_count": null,
      "outputs": [
        {
          "output_type": "stream",
          "name": "stdout",
          "text": [
            "[[1 2 3]\n",
            " [4 5 6]]\n"
          ]
        }
      ]
    },
    {
      "cell_type": "markdown",
      "source": [
        "* Satır boyunca istifleme"
      ],
      "metadata": {
        "id": "gau6SXWh-0Km"
      }
    },
    {
      "cell_type": "code",
      "source": [
        "arr1 = np.array([1, 2, 3])\n",
        "\n",
        "arr2 = np.array([4, 5, 6])\n",
        "\n",
        "arr = np.hstack((arr1, arr2))\n",
        "\n",
        "print(arr)"
      ],
      "metadata": {
        "colab": {
          "base_uri": "https://localhost:8080/"
        },
        "id": "ELtxOD1w2JTQ",
        "outputId": "0f287ab4-7699-4836-f9e2-3e2a6f6c8cbe"
      },
      "execution_count": null,
      "outputs": [
        {
          "output_type": "stream",
          "name": "stdout",
          "text": [
            "[1 2 3 4 5 6]\n"
          ]
        }
      ]
    },
    {
      "cell_type": "markdown",
      "source": [
        "* Sütun boyunca istifleme"
      ],
      "metadata": {
        "id": "RVmaKpuF-tfi"
      }
    },
    {
      "cell_type": "code",
      "source": [
        "arr1 = np.array([1, 2, 3])\n",
        "\n",
        "arr2 = np.array([4, 5, 6])\n",
        "\n",
        "arr = np.vstack((arr1, arr2))\n",
        "\n",
        "print(arr)"
      ],
      "metadata": {
        "colab": {
          "base_uri": "https://localhost:8080/"
        },
        "id": "bBvXYtCt2JQp",
        "outputId": "4e451c74-7ed8-40ac-9a74-ca073231d94f"
      },
      "execution_count": null,
      "outputs": [
        {
          "output_type": "stream",
          "name": "stdout",
          "text": [
            "[[1 2 3]\n",
            " [4 5 6]]\n"
          ]
        }
      ]
    },
    {
      "cell_type": "markdown",
      "source": [
        "* Yükseklik boyunca istifleme"
      ],
      "metadata": {
        "id": "Mz0LNoLv-oJ-"
      }
    },
    {
      "cell_type": "code",
      "source": [
        "arr1 = np.array([1, 2, 3])\n",
        "\n",
        "arr2 = np.array([4, 5, 6])\n",
        "\n",
        "arr = np.dstack((arr1, arr2))\n",
        "\n",
        "print(arr)"
      ],
      "metadata": {
        "colab": {
          "base_uri": "https://localhost:8080/"
        },
        "id": "mB7p9QH92JOS",
        "outputId": "3199e6f9-69aa-4687-8153-144f0f658782"
      },
      "execution_count": null,
      "outputs": [
        {
          "output_type": "stream",
          "name": "stdout",
          "text": [
            "[[[1 4]\n",
            "  [2 5]\n",
            "  [3 6]]]\n"
          ]
        }
      ]
    },
    {
      "cell_type": "markdown",
      "source": [
        "## NumPy Ayırma Dizisi\n"
      ],
      "metadata": {
        "id": "icOMln3O_ixs"
      }
    },
    {
      "cell_type": "code",
      "source": [
        "arr = np.array([1, 2, 3, 4, 5, 6])  # array_split ile 3 arraya ayırma \n",
        "\n",
        "newarr = np.array_split(arr, 3)\n",
        "\n",
        "print(newarr)"
      ],
      "metadata": {
        "colab": {
          "base_uri": "https://localhost:8080/"
        },
        "id": "i_k2mG3__bLg",
        "outputId": "c17264e0-93be-44ea-9438-5b83411c880f"
      },
      "execution_count": null,
      "outputs": [
        {
          "output_type": "stream",
          "name": "stdout",
          "text": [
            "[array([1, 2]), array([3, 4]), array([5, 6])]\n"
          ]
        }
      ]
    },
    {
      "cell_type": "code",
      "source": [
        "arr = np.array([1, 2, 3, 4, 5, 6])  # array_split ile eşit olmayan ayırma \n",
        "\n",
        "newarr = np.array_split(arr, 4)\n",
        "\n",
        "print(newarr)"
      ],
      "metadata": {
        "colab": {
          "base_uri": "https://localhost:8080/"
        },
        "id": "tHyA-wRk_bJs",
        "outputId": "6c810803-4beb-422d-f028-83a2cecb6634"
      },
      "execution_count": null,
      "outputs": [
        {
          "output_type": "stream",
          "name": "stdout",
          "text": [
            "[array([1, 2]), array([3, 4]), array([5]), array([6])]\n"
          ]
        }
      ]
    },
    {
      "cell_type": "code",
      "source": [
        "arr = np.array([1, 2, 3, 4, 5, 6])   # array_split ile array elemanlarına ulaşma \n",
        " \n",
        "newarr = np.array_split(arr, 3)\n",
        "\n",
        "print(newarr[0])\n",
        "print(newarr[1])\n",
        "print(newarr[2])"
      ],
      "metadata": {
        "colab": {
          "base_uri": "https://localhost:8080/"
        },
        "id": "9EKsyr4O_bHk",
        "outputId": "7f4f30e5-8165-40e7-c3ab-3f1844998fe7"
      },
      "execution_count": null,
      "outputs": [
        {
          "output_type": "stream",
          "name": "stdout",
          "text": [
            "[1 2]\n",
            "[3 4]\n",
            "[5 6]\n"
          ]
        }
      ]
    },
    {
      "cell_type": "code",
      "source": [
        "arr = np.array([[1, 2], [3, 4], [5, 6], [7, 8], [9, 10], [11, 12]])  \n",
        "\n",
        "newarr = np.array_split(arr, 3)\n",
        "\n",
        "print(newarr)"
      ],
      "metadata": {
        "colab": {
          "base_uri": "https://localhost:8080/"
        },
        "id": "WufWhlmI_bEg",
        "outputId": "7d47c8dc-4377-43cb-9feb-89e2b0011d85"
      },
      "execution_count": null,
      "outputs": [
        {
          "output_type": "stream",
          "name": "stdout",
          "text": [
            "[array([[1, 2],\n",
            "       [3, 4]]), array([[5, 6],\n",
            "       [7, 8]]), array([[ 9, 10],\n",
            "       [11, 12]])]\n"
          ]
        }
      ]
    },
    {
      "cell_type": "code",
      "source": [
        "arr = np.array([[1, 2, 3], [4, 5, 6], [7, 8, 9], [10, 11, 12], [13, 14, 15], [16, 17, 18]])\n",
        "\n",
        "newarr = np.array_split(arr, 3)\n",
        "\n",
        "print(newarr)"
      ],
      "metadata": {
        "colab": {
          "base_uri": "https://localhost:8080/"
        },
        "id": "6-1DguVN_bB0",
        "outputId": "60a75fc8-96be-455a-9984-10b0704ac408"
      },
      "execution_count": null,
      "outputs": [
        {
          "output_type": "stream",
          "name": "stdout",
          "text": [
            "[array([[1, 2, 3],\n",
            "       [4, 5, 6]]), array([[ 7,  8,  9],\n",
            "       [10, 11, 12]]), array([[13, 14, 15],\n",
            "       [16, 17, 18]])]\n"
          ]
        }
      ]
    },
    {
      "cell_type": "code",
      "source": [
        "arr = np.array([[1, 2, 3], [4, 5, 6], [7, 8, 9], [10, 11, 12], [13, 14, 15], [16, 17, 18]])\n",
        "\n",
        "newarr = np.array_split(arr, 3, axis=1)  # array_split ile axis 1 düzeyinde ayırma,\n",
        "                                         # bölünme gerçekleşmeden önceki her dizinin ilk elemanı ile oluşturuldu \n",
        "print(newarr)"
      ],
      "metadata": {
        "colab": {
          "base_uri": "https://localhost:8080/"
        },
        "id": "TPMnNOHJ2JKF",
        "outputId": "ba925b0a-6dc0-4e87-b466-fea75b5e18f5"
      },
      "execution_count": null,
      "outputs": [
        {
          "output_type": "stream",
          "name": "stdout",
          "text": [
            "[array([[ 1],\n",
            "       [ 4],\n",
            "       [ 7],\n",
            "       [10],\n",
            "       [13],\n",
            "       [16]]), array([[ 2],\n",
            "       [ 5],\n",
            "       [ 8],\n",
            "       [11],\n",
            "       [14],\n",
            "       [17]]), array([[ 3],\n",
            "       [ 6],\n",
            "       [ 9],\n",
            "       [12],\n",
            "       [15],\n",
            "       [18]])]\n"
          ]
        }
      ]
    },
    {
      "cell_type": "code",
      "source": [
        "arr = np.array([[1, 2, 3], [4, 5, 6], [7, 8, 9], [10, 11, 12], [13, 14, 15], [16, 17, 18]])\n",
        "\n",
        "newarr = np.hsplit(arr, 3)   # bölünme gerçekleşmeden önceki her dizinin ilk elemanı ile oluşturuldu, hsplit kullanıldı\n",
        "\n",
        "print(newarr)"
      ],
      "metadata": {
        "colab": {
          "base_uri": "https://localhost:8080/"
        },
        "id": "HT0e_2Mz2JID",
        "outputId": "30d09443-cc5c-4a40-c7ec-1b2f4d2a9e01"
      },
      "execution_count": null,
      "outputs": [
        {
          "output_type": "stream",
          "name": "stdout",
          "text": [
            "[array([[ 1],\n",
            "       [ 4],\n",
            "       [ 7],\n",
            "       [10],\n",
            "       [13],\n",
            "       [16]]), array([[ 2],\n",
            "       [ 5],\n",
            "       [ 8],\n",
            "       [11],\n",
            "       [14],\n",
            "       [17]]), array([[ 3],\n",
            "       [ 6],\n",
            "       [ 9],\n",
            "       [12],\n",
            "       [15],\n",
            "       [18]])]\n"
          ]
        }
      ]
    },
    {
      "cell_type": "markdown",
      "source": [
        "## Dizi Arama\n"
      ],
      "metadata": {
        "id": "1jzX6qyDCrIV"
      }
    },
    {
      "cell_type": "markdown",
      "source": [
        "Arnan karakterin liste içinde hangi indekslerde olduğunu yazdırır."
      ],
      "metadata": {
        "id": "xlz6g5rSC5bA"
      }
    },
    {
      "cell_type": "code",
      "source": [
        "arr = np.array([1, 2, 3, 4, 5, 4, 4])  # where ile array içindeki elemanı arama \n",
        "\n",
        "x = np.where(arr == 4)\n",
        "\n",
        "print(x)"
      ],
      "metadata": {
        "colab": {
          "base_uri": "https://localhost:8080/"
        },
        "id": "sjzorSY-CtCm",
        "outputId": "3afa2c0d-80d6-4205-d685-6e365779a356"
      },
      "execution_count": null,
      "outputs": [
        {
          "output_type": "stream",
          "name": "stdout",
          "text": [
            "(array([3, 5, 6]),)\n"
          ]
        }
      ]
    },
    {
      "cell_type": "code",
      "source": [
        "arr = np.array([1, 2, 3, 4, 5, 6, 7, 8])   # where ile array içinde işlem gerçekleştirme \n",
        "\n",
        "x = np.where(arr%2 == 0)\n",
        "\n",
        "print(x)"
      ],
      "metadata": {
        "colab": {
          "base_uri": "https://localhost:8080/"
        },
        "id": "4YcaCWhyCtqD",
        "outputId": "3dc478a1-d983-4cac-b4c5-8ef25911c0c0"
      },
      "execution_count": null,
      "outputs": [
        {
          "output_type": "stream",
          "name": "stdout",
          "text": [
            "(array([1, 3, 5, 7]),)\n"
          ]
        }
      ]
    },
    {
      "cell_type": "markdown",
      "source": [
        "* Karakteri soldan aramaya başlar ve istenen karakterin nereye ekleneceğini gösterir"
      ],
      "metadata": {
        "id": "8Csaxql2Fbpd"
      }
    },
    {
      "cell_type": "code",
      "source": [
        "import numpy as np \n",
        "arr = np.array([6, 7, 8, 9])    # array içindeki karakteri soldan arama yapar\n",
        "\n",
        "x = np.searchsorted(arr, 7)\n",
        "\n",
        "print(x)\n",
        "print(arr)"
      ],
      "metadata": {
        "colab": {
          "base_uri": "https://localhost:8080/"
        },
        "id": "9-Xzu6UzCtoC",
        "outputId": "59ce8909-0413-4a42-b91c-d09bce410e8e"
      },
      "execution_count": null,
      "outputs": [
        {
          "output_type": "stream",
          "name": "stdout",
          "text": [
            "1\n",
            "[6 7 8 9]\n"
          ]
        }
      ]
    },
    {
      "cell_type": "markdown",
      "source": [
        "* Karakteri sağdan aramaya başlar ve istenen karakterin nereye ekleneceğini gösterir"
      ],
      "metadata": {
        "id": "Ldsf57H7HSS-"
      }
    },
    {
      "cell_type": "code",
      "source": [
        "arr = np.array([6, 7, 8, 9])  # array içindeki karakteri sağdan arama yapar\n",
        "\n",
        "x = np.searchsorted(arr, 7, side='right')\n",
        "\n",
        "print(x)\n",
        "print(arr)"
      ],
      "metadata": {
        "colab": {
          "base_uri": "https://localhost:8080/"
        },
        "id": "FhcILbiUCtis",
        "outputId": "83f5faae-25e2-4234-9be1-73f3fd1ed111"
      },
      "execution_count": null,
      "outputs": [
        {
          "output_type": "stream",
          "name": "stdout",
          "text": [
            "2\n",
            "[6 7 8 9]\n"
          ]
        }
      ]
    },
    {
      "cell_type": "markdown",
      "source": [
        "* Birden fazla karakterin eklenmesi için farklı dizinleri verir."
      ],
      "metadata": {
        "id": "4F-lOUfPH3AM"
      }
    },
    {
      "cell_type": "code",
      "source": [
        "arr = np.array([1, 3, 5, 7])   # soldan olacak şekilde birden fazla arama yapar \n",
        "\n",
        "x = np.searchsorted(arr, [2, 4, 6])\n",
        "\n",
        "print(x)"
      ],
      "metadata": {
        "colab": {
          "base_uri": "https://localhost:8080/"
        },
        "id": "l8zKdsf4CtgI",
        "outputId": "6803b2ff-816e-493a-e12b-154735cf1474"
      },
      "execution_count": null,
      "outputs": [
        {
          "output_type": "stream",
          "name": "stdout",
          "text": [
            "[1 2 3]\n"
          ]
        }
      ]
    },
    {
      "cell_type": "markdown",
      "source": [
        "## Dizileri Sıralama"
      ],
      "metadata": {
        "id": "7lnBZytgI0wi"
      }
    },
    {
      "cell_type": "code",
      "source": [
        "arr = np.array([3, 2, 0, 1])   # arrayları küçükten büyüğe sıralar\n",
        "\n",
        "print(np.sort(arr))"
      ],
      "metadata": {
        "colab": {
          "base_uri": "https://localhost:8080/"
        },
        "id": "NSKp4n6BCtdf",
        "outputId": "06d5724d-8320-4ae4-938b-ea8692c51455"
      },
      "execution_count": null,
      "outputs": [
        {
          "output_type": "stream",
          "name": "stdout",
          "text": [
            "[0 1 2 3]\n"
          ]
        }
      ]
    },
    {
      "cell_type": "code",
      "source": [
        "arr = np.array(['banana', 'cherry', 'apple'])  # arrayları alfabeye göre sırlar \n",
        "\n",
        "print(np.sort(arr))"
      ],
      "metadata": {
        "colab": {
          "base_uri": "https://localhost:8080/"
        },
        "id": "M7-fRt1wCta6",
        "outputId": "b336173c-56ff-4ecf-cf96-965017d60279"
      },
      "execution_count": null,
      "outputs": [
        {
          "output_type": "stream",
          "name": "stdout",
          "text": [
            "['apple' 'banana' 'cherry']\n"
          ]
        }
      ]
    },
    {
      "cell_type": "code",
      "source": [
        "arr = np.array([True, False, True])   # bool değere göre sırala, False değeri ilk gelir\n",
        "\n",
        "print(np.sort(arr))"
      ],
      "metadata": {
        "colab": {
          "base_uri": "https://localhost:8080/"
        },
        "id": "qOaAJ9_SJHE0",
        "outputId": "4a6dffd0-b60e-4cc8-95c7-7143f5de2570"
      },
      "execution_count": null,
      "outputs": [
        {
          "output_type": "stream",
          "name": "stdout",
          "text": [
            "[False  True  True]\n"
          ]
        }
      ]
    },
    {
      "cell_type": "code",
      "source": [
        "arr = np.array([[3, 2, 4], [5, 0, 1]])  # array içindeki dizinleri küçükten büyüğe sıralar \n",
        "\n",
        "print(np.sort(arr))"
      ],
      "metadata": {
        "colab": {
          "base_uri": "https://localhost:8080/"
        },
        "id": "xZOrohEvJHB5",
        "outputId": "9174b4e9-305c-4af5-d68f-334fa00025a3"
      },
      "execution_count": null,
      "outputs": [
        {
          "output_type": "stream",
          "name": "stdout",
          "text": [
            "[[2 3 4]\n",
            " [0 1 5]]\n"
          ]
        }
      ]
    },
    {
      "cell_type": "markdown",
      "source": [
        "## Dizileri Filtreleme\n"
      ],
      "metadata": {
        "id": "F2FGj-sfKun8"
      }
    },
    {
      "cell_type": "markdown",
      "source": [
        "* Mevcut bir diziden bazı elemanları alıp onlardan yeni bir dizi oluşturmaya filtreleme denir .\n",
        "* NumPy'de, bir boolean index list kullanarak bir diziyi filtrelersiniz .\n",
        "\n"
      ],
      "metadata": {
        "id": "EG0Rx6xWK1mA"
      }
    },
    {
      "cell_type": "code",
      "source": [
        "arr = np.array([41, 42, 43, 44])  # True değerlere denk gelen elemanları farklı bir değişkene atanması \n",
        "                                  # ana değişkende eleman sayısında eksilme olmadı \n",
        "x = [True, False, True, False]\n",
        "\n",
        "newarr = arr[x]\n",
        "\n",
        "print(newarr)\n",
        "print(arr)"
      ],
      "metadata": {
        "colab": {
          "base_uri": "https://localhost:8080/"
        },
        "id": "-1ZghMczJG_j",
        "outputId": "a089aab9-4979-441b-b231-2a481220c580"
      },
      "execution_count": null,
      "outputs": [
        {
          "output_type": "stream",
          "name": "stdout",
          "text": [
            "[41 43]\n",
            "[41 42 43 44]\n"
          ]
        }
      ]
    },
    {
      "cell_type": "code",
      "source": [
        "arr = np.array([41, 42, 43, 44])  # True değerlerinin alındığı farklı bir gösterim \n",
        "\n",
        "\n",
        "filter_arr = []\n",
        "\n",
        "\n",
        "for element in arr:\n",
        "  \n",
        "  if element > 42:\n",
        "    filter_arr.append(True)\n",
        "  else:\n",
        "    filter_arr.append(False)\n",
        "\n",
        "newarr = arr[filter_arr]\n",
        "\n",
        "print(filter_arr)\n",
        "print(newarr)"
      ],
      "metadata": {
        "colab": {
          "base_uri": "https://localhost:8080/"
        },
        "id": "s-9aF85xJG82",
        "outputId": "1623409d-bcaf-43fa-afad-bad7389b4c12"
      },
      "execution_count": null,
      "outputs": [
        {
          "output_type": "stream",
          "name": "stdout",
          "text": [
            "[False, False, True, True]\n",
            "[43 44]\n"
          ]
        }
      ]
    },
    {
      "cell_type": "code",
      "source": [
        "arr = np.array([1, 2, 3, 4, 5, 6, 7])  # True değerlerinin alındığı farklı bir gösterim \n",
        "\n",
        "\n",
        "filter_arr = []\n",
        "\n",
        "\n",
        "for element in arr:\n",
        "  \n",
        "  if element % 2 == 0:\n",
        "    filter_arr.append(True)\n",
        "  else:\n",
        "    filter_arr.append(False)\n",
        "\n",
        "newarr = arr[filter_arr]\n",
        "\n",
        "print(filter_arr)\n",
        "print(newarr)\n"
      ],
      "metadata": {
        "colab": {
          "base_uri": "https://localhost:8080/"
        },
        "id": "MPOXq06CJG6x",
        "outputId": "607afd7f-3967-4940-ee9a-b9c91583c37b"
      },
      "execution_count": null,
      "outputs": [
        {
          "output_type": "stream",
          "name": "stdout",
          "text": [
            "[False, True, False, True, False, True, False]\n",
            "[2 4 6]\n"
          ]
        }
      ]
    },
    {
      "cell_type": "code",
      "source": [
        "arr = np.array([41, 42, 43, 44])    # True değerlerinin alındığı farklı bir gösterim \n",
        "\n",
        "filter_arr = arr > 42\n",
        "\n",
        "newarr = arr[filter_arr]\n",
        "\n",
        "print(filter_arr)\n",
        "print(newarr)"
      ],
      "metadata": {
        "colab": {
          "base_uri": "https://localhost:8080/"
        },
        "id": "ZOWO2egTJG4N",
        "outputId": "e7919351-e576-452f-99ad-425503c5b4f0"
      },
      "execution_count": null,
      "outputs": [
        {
          "output_type": "stream",
          "name": "stdout",
          "text": [
            "[False False  True  True]\n",
            "[43 44]\n"
          ]
        }
      ]
    },
    {
      "cell_type": "code",
      "source": [
        "arr = np.array([1, 2, 3, 4, 5, 6, 7])    # True değerlerinin alındığı farklı bir gösterim \n",
        "\n",
        "filter_arr = arr % 2 == 0\n",
        "\n",
        "newarr = arr[filter_arr]\n",
        "\n",
        "print(filter_arr)\n",
        "print(newarr)"
      ],
      "metadata": {
        "colab": {
          "base_uri": "https://localhost:8080/"
        },
        "id": "rH3u5VLVP04J",
        "outputId": "6d8a3e7b-5f24-42a0-d7d2-d347844496d8"
      },
      "execution_count": null,
      "outputs": [
        {
          "output_type": "stream",
          "name": "stdout",
          "text": [
            "[False  True False  True False  True False]\n",
            "[2 4 6]\n"
          ]
        }
      ]
    },
    {
      "cell_type": "markdown",
      "source": [
        "## Rastgele Sayı Oluştur\n"
      ],
      "metadata": {
        "id": "IangUkjzgdv2"
      }
    },
    {
      "cell_type": "code",
      "source": [
        "import random\n"
      ],
      "metadata": {
        "id": "Yws-F3NFgnfA"
      },
      "execution_count": null,
      "outputs": []
    },
    {
      "cell_type": "code",
      "source": [
        "x = random.randint(100)\n",
        "\n",
        "print(x)"
      ],
      "metadata": {
        "colab": {
          "base_uri": "https://localhost:8080/"
        },
        "id": "MNb8nH2_f2UA",
        "outputId": "6bb2e59b-310e-4099-fd97-63b52d1e117a"
      },
      "execution_count": null,
      "outputs": [
        {
          "output_type": "stream",
          "name": "stdout",
          "text": [
            "18\n"
          ]
        }
      ]
    },
    {
      "cell_type": "code",
      "source": [
        "x = random.rand()\n",
        "\n",
        "print(x)"
      ],
      "metadata": {
        "colab": {
          "base_uri": "https://localhost:8080/"
        },
        "id": "0OpvBNVxgq5j",
        "outputId": "92f69de1-a23f-49c1-aa1c-f4f7ce1adc3b"
      },
      "execution_count": null,
      "outputs": [
        {
          "output_type": "stream",
          "name": "stdout",
          "text": [
            "0.31221252311038794\n"
          ]
        }
      ]
    },
    {
      "cell_type": "code",
      "source": [
        "x=random.randint(100, size=(5))\n",
        "\n",
        "print(x)"
      ],
      "metadata": {
        "colab": {
          "base_uri": "https://localhost:8080/"
        },
        "id": "DKO7cZcqgq3A",
        "outputId": "7635b0dc-d4b1-411d-bf70-8960662554dd"
      },
      "execution_count": null,
      "outputs": [
        {
          "output_type": "stream",
          "name": "stdout",
          "text": [
            "[84 41 14 99 96]\n"
          ]
        }
      ]
    },
    {
      "cell_type": "code",
      "source": [
        "x = random.randint(100, size=(3, 5))\n",
        "\n",
        "print(x)"
      ],
      "metadata": {
        "colab": {
          "base_uri": "https://localhost:8080/"
        },
        "id": "Ns0O0X-hgq1D",
        "outputId": "725959f0-397d-4bc7-ef38-8d9304392940"
      },
      "execution_count": null,
      "outputs": [
        {
          "output_type": "stream",
          "name": "stdout",
          "text": [
            "[[20 65 50 89 23]\n",
            " [45 58 70 72 44]\n",
            " [42 89 29 54 85]]\n"
          ]
        }
      ]
    },
    {
      "cell_type": "code",
      "source": [
        "x = random.rand(5)\n",
        "\n",
        "print(x)"
      ],
      "metadata": {
        "colab": {
          "base_uri": "https://localhost:8080/"
        },
        "id": "s94meYJJgqyW",
        "outputId": "d4229ce5-c31e-4756-a176-55ff81c786c3"
      },
      "execution_count": null,
      "outputs": [
        {
          "output_type": "stream",
          "name": "stdout",
          "text": [
            "[0.19211244 0.80120335 0.85015831 0.07730002 0.48432723]\n"
          ]
        }
      ]
    },
    {
      "cell_type": "code",
      "source": [
        "x = random.rand(3, 5)\n",
        "\n",
        "print(x)"
      ],
      "metadata": {
        "colab": {
          "base_uri": "https://localhost:8080/"
        },
        "id": "POr_LLmVgqv7",
        "outputId": "ca43d1cb-5a73-4265-c036-cb50fd8d9606"
      },
      "execution_count": null,
      "outputs": [
        {
          "output_type": "stream",
          "name": "stdout",
          "text": [
            "[[0.69843902 0.74188691 0.67653059 0.07782988 0.70159173]\n",
            " [0.83378546 0.67785929 0.00890359 0.34991755 0.54169169]\n",
            " [0.83271292 0.87354534 0.10591516 0.30656556 0.78631415]]\n"
          ]
        }
      ]
    },
    {
      "cell_type": "code",
      "source": [
        "x = random.choice([3, 5, 7, 9])\n",
        "\n",
        "print(x)"
      ],
      "metadata": {
        "colab": {
          "base_uri": "https://localhost:8080/"
        },
        "id": "o2yOtv1Ggqts",
        "outputId": "67affb1c-32c7-4144-cda5-1bf62b4eeba9"
      },
      "execution_count": null,
      "outputs": [
        {
          "output_type": "stream",
          "name": "stdout",
          "text": [
            "3\n"
          ]
        }
      ]
    },
    {
      "cell_type": "code",
      "source": [
        "x = random.choice([3, 5, 7, 9], size=(3, 5))\n",
        "\n",
        "print(x)"
      ],
      "metadata": {
        "colab": {
          "base_uri": "https://localhost:8080/"
        },
        "id": "lnskAzljhUrG",
        "outputId": "ae8fb006-4f70-4235-b6ef-5a613cbd1b0c"
      },
      "execution_count": null,
      "outputs": [
        {
          "output_type": "stream",
          "name": "stdout",
          "text": [
            "[[3 9 7 3 3]\n",
            " [9 7 3 9 5]\n",
            " [7 9 5 7 5]]\n"
          ]
        }
      ]
    },
    {
      "cell_type": "code",
      "source": [
        "x = random.choice([3, 5, 7, 9], p=[0.1, 0.3, 0.6, 0.0], size=(100))\n",
        "\n",
        "print(x)\n",
        "# p olasılıkları ile 100 adet seçili sayılardan random değer oluşturma"
      ],
      "metadata": {
        "id": "uFnvaHNmhUo7",
        "colab": {
          "base_uri": "https://localhost:8080/"
        },
        "outputId": "0508d9f4-e3d6-43f7-dc81-ba3de7e0f042"
      },
      "execution_count": null,
      "outputs": [
        {
          "output_type": "stream",
          "name": "stdout",
          "text": [
            "[5 3 7 7 7 5 5 7 7 7 5 5 7 5 5 7 7 7 7 5 5 7 5 7 7 7 5 7 7 7 5 5 7 7 3 7 5\n",
            " 7 5 7 5 7 7 5 7 7 7 7 5 7 5 7 7 7 5 7 5 5 7 7 5 5 7 7 5 5 7 7 5 5 5 5 5 5\n",
            " 5 7 7 7 7 7 7 7 7 7 7 5 7 3 5 7 5 7 7 7 7 5 3 7 7 7]\n"
          ]
        }
      ]
    },
    {
      "cell_type": "code",
      "source": [
        "x = random.choice([3, 5, 7, 9], p=[0.1, 0.3, 0.6, 0.0], size=(3, 5))\n",
        "\n",
        "print(x)"
      ],
      "metadata": {
        "id": "nImMosdJhUmj",
        "colab": {
          "base_uri": "https://localhost:8080/"
        },
        "outputId": "e040c1df-16d6-4842-e96a-cb5e3b15bc7a"
      },
      "execution_count": null,
      "outputs": [
        {
          "output_type": "stream",
          "name": "stdout",
          "text": [
            "[[7 7 3 5 7]\n",
            " [7 3 7 5 7]\n",
            " [7 5 5 5 7]]\n"
          ]
        }
      ]
    },
    {
      "cell_type": "code",
      "source": [
        "arr = np.array([1, 2, 3, 4, 5])\n",
        "\n",
        "random.shuffle(arr)\n",
        "\n",
        "print(arr)\n",
        "# dizinin öğelerini rastgele karıştırır. shuffle fonkisyonu gerçekleştirir"
      ],
      "metadata": {
        "id": "lcw9gIqYhUkU",
        "colab": {
          "base_uri": "https://localhost:8080/"
        },
        "outputId": "1bfe936a-4bd0-44e9-cbe8-1c7f95ed3714"
      },
      "execution_count": null,
      "outputs": [
        {
          "output_type": "stream",
          "name": "stdout",
          "text": [
            "[4 5 1 3 2]\n"
          ]
        }
      ]
    },
    {
      "cell_type": "code",
      "source": [
        "x = random.normal(size=(2, 3))\n",
        "\n",
        "print(x)\n",
        "\n",
        "#2x3 rastgele sayı üretir"
      ],
      "metadata": {
        "id": "hMVssvCQhUiP",
        "colab": {
          "base_uri": "https://localhost:8080/"
        },
        "outputId": "e68e9423-a9a4-40bd-89f2-7bd4916e84ee"
      },
      "execution_count": null,
      "outputs": [
        {
          "output_type": "stream",
          "name": "stdout",
          "text": [
            "[[-0.29955149 -2.03656271 -0.74099636]\n",
            " [ 0.16210275 -0.01231922  1.91136267]]\n"
          ]
        }
      ]
    },
    {
      "cell_type": "code",
      "source": [
        "x = random.normal(loc=1, scale=2, size=(2, 3))\n",
        "\n",
        "print(x)\n",
        "# ortalamsı 1, standart sapmsaı 2 olan 2x3 sayı üretir"
      ],
      "metadata": {
        "id": "qgh5a1Y_hUfS",
        "colab": {
          "base_uri": "https://localhost:8080/"
        },
        "outputId": "900b66f0-9637-4cac-904f-38febe598acb"
      },
      "execution_count": null,
      "outputs": [
        {
          "output_type": "stream",
          "name": "stdout",
          "text": [
            "[[-1.9791572  -0.86303527 -1.71228316]\n",
            " [ 0.67430238  0.50467672  2.52721121]]\n"
          ]
        }
      ]
    },
    {
      "cell_type": "code",
      "source": [
        "x = random.poisson(lam=2, size=10)\n",
        "\n",
        "print(x)"
      ],
      "metadata": {
        "id": "4obnPENWhUce",
        "colab": {
          "base_uri": "https://localhost:8080/"
        },
        "outputId": "edf4a0b3-e2c4-4248-cfc9-c410fa398195"
      },
      "execution_count": null,
      "outputs": [
        {
          "output_type": "stream",
          "name": "stdout",
          "text": [
            "[6 2 4 4 3 1 3 2 0 1]\n"
          ]
        }
      ]
    },
    {
      "cell_type": "markdown",
      "source": [
        "## NumPy ufuncs\n"
      ],
      "metadata": {
        "id": "J2X2UPnMSRWD"
      }
    },
    {
      "cell_type": "markdown",
      "source": [
        "* NumPy'de vektörleştirmeyi uygulamak için kullanılır .\n",
        "* Vektörleşme Nedir?\n",
        "* Yinelemeli ifadeleri vektör tabanlı bir işleme dönüştürmeye vektörleştirme denir.\n",
        "* 2 listeyi toplamak \n"
      ],
      "metadata": {
        "id": "ryWgCIu1SVvT"
      }
    },
    {
      "cell_type": "code",
      "source": [
        "x = [1, 2, 3, 4]\n",
        "y = [4, 5, 6, 7]\n",
        "z = []\n",
        "\n",
        "for i, j in zip(x, y):\n",
        "  z.append(i + j)\n",
        "print(z)"
      ],
      "metadata": {
        "id": "RxroX9sXhT4E",
        "colab": {
          "base_uri": "https://localhost:8080/"
        },
        "outputId": "c4653145-ea7e-45e9-8cbc-8ef7d6f9712d"
      },
      "execution_count": null,
      "outputs": [
        {
          "output_type": "stream",
          "name": "stdout",
          "text": [
            "[5, 7, 9, 11]\n"
          ]
        }
      ]
    },
    {
      "cell_type": "code",
      "source": [
        "x = [1, 2, 3, 4]\n",
        "y = [4, 5, 6, 7]\n",
        "z = np.add(x, y)\n",
        "\n",
        "print(z)"
      ],
      "metadata": {
        "id": "5K7_imjXhT1o",
        "colab": {
          "base_uri": "https://localhost:8080/"
        },
        "outputId": "8ce770d7-1a56-40a8-e282-223e83cf6716"
      },
      "execution_count": null,
      "outputs": [
        {
          "output_type": "stream",
          "name": "stdout",
          "text": [
            "[ 5  7  9 11]\n"
          ]
        }
      ]
    }
  ]
}